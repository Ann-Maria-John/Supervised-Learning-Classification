{
 "cells": [
  {
   "cell_type": "code",
   "execution_count": 1,
   "metadata": {},
   "outputs": [],
   "source": [
    "import pandas as pd\n",
    "import numpy as np\n",
    "import matplotlib.pyplot as plt\n",
    "import seaborn as sns"
   ]
  },
  {
   "cell_type": "code",
   "execution_count": 2,
   "metadata": {
    "scrolled": true
   },
   "outputs": [
    {
     "data": {
      "text/html": [
       "<div>\n",
       "<style scoped>\n",
       "    .dataframe tbody tr th:only-of-type {\n",
       "        vertical-align: middle;\n",
       "    }\n",
       "\n",
       "    .dataframe tbody tr th {\n",
       "        vertical-align: top;\n",
       "    }\n",
       "\n",
       "    .dataframe thead th {\n",
       "        text-align: right;\n",
       "    }\n",
       "</style>\n",
       "<table border=\"1\" class=\"dataframe\">\n",
       "  <thead>\n",
       "    <tr style=\"text-align: right;\">\n",
       "      <th></th>\n",
       "      <th>gender</th>\n",
       "      <th>senior</th>\n",
       "      <th>partner</th>\n",
       "      <th>dependents</th>\n",
       "      <th>tenure</th>\n",
       "      <th>phone_service</th>\n",
       "      <th>multiple_lines</th>\n",
       "      <th>online_security</th>\n",
       "      <th>online_backup</th>\n",
       "      <th>device_protection</th>\n",
       "      <th>...</th>\n",
       "      <th>total_charges</th>\n",
       "      <th>churn</th>\n",
       "      <th>avg_monthly_charges</th>\n",
       "      <th>internet_service-fiber_optic</th>\n",
       "      <th>internet_service-no</th>\n",
       "      <th>contract-one_year</th>\n",
       "      <th>contract-two_year</th>\n",
       "      <th>payment_method-credit_card_auto</th>\n",
       "      <th>payment_method-electronic_check</th>\n",
       "      <th>payment_method-mailed_check</th>\n",
       "    </tr>\n",
       "  </thead>\n",
       "  <tbody>\n",
       "    <tr>\n",
       "      <td>0</td>\n",
       "      <td>1</td>\n",
       "      <td>0</td>\n",
       "      <td>1</td>\n",
       "      <td>0</td>\n",
       "      <td>1</td>\n",
       "      <td>0</td>\n",
       "      <td>0</td>\n",
       "      <td>0</td>\n",
       "      <td>1</td>\n",
       "      <td>0</td>\n",
       "      <td>...</td>\n",
       "      <td>29.85</td>\n",
       "      <td>0</td>\n",
       "      <td>29.850000</td>\n",
       "      <td>0</td>\n",
       "      <td>0</td>\n",
       "      <td>0</td>\n",
       "      <td>0</td>\n",
       "      <td>0</td>\n",
       "      <td>1</td>\n",
       "      <td>0</td>\n",
       "    </tr>\n",
       "    <tr>\n",
       "      <td>1</td>\n",
       "      <td>0</td>\n",
       "      <td>0</td>\n",
       "      <td>0</td>\n",
       "      <td>0</td>\n",
       "      <td>34</td>\n",
       "      <td>1</td>\n",
       "      <td>0</td>\n",
       "      <td>1</td>\n",
       "      <td>0</td>\n",
       "      <td>1</td>\n",
       "      <td>...</td>\n",
       "      <td>1889.50</td>\n",
       "      <td>0</td>\n",
       "      <td>55.573529</td>\n",
       "      <td>0</td>\n",
       "      <td>0</td>\n",
       "      <td>1</td>\n",
       "      <td>0</td>\n",
       "      <td>0</td>\n",
       "      <td>0</td>\n",
       "      <td>1</td>\n",
       "    </tr>\n",
       "    <tr>\n",
       "      <td>2</td>\n",
       "      <td>0</td>\n",
       "      <td>0</td>\n",
       "      <td>0</td>\n",
       "      <td>0</td>\n",
       "      <td>2</td>\n",
       "      <td>1</td>\n",
       "      <td>0</td>\n",
       "      <td>1</td>\n",
       "      <td>1</td>\n",
       "      <td>0</td>\n",
       "      <td>...</td>\n",
       "      <td>108.15</td>\n",
       "      <td>1</td>\n",
       "      <td>54.075000</td>\n",
       "      <td>0</td>\n",
       "      <td>0</td>\n",
       "      <td>0</td>\n",
       "      <td>0</td>\n",
       "      <td>0</td>\n",
       "      <td>0</td>\n",
       "      <td>1</td>\n",
       "    </tr>\n",
       "    <tr>\n",
       "      <td>3</td>\n",
       "      <td>0</td>\n",
       "      <td>0</td>\n",
       "      <td>0</td>\n",
       "      <td>0</td>\n",
       "      <td>45</td>\n",
       "      <td>0</td>\n",
       "      <td>0</td>\n",
       "      <td>1</td>\n",
       "      <td>0</td>\n",
       "      <td>1</td>\n",
       "      <td>...</td>\n",
       "      <td>1840.75</td>\n",
       "      <td>0</td>\n",
       "      <td>40.905556</td>\n",
       "      <td>0</td>\n",
       "      <td>0</td>\n",
       "      <td>1</td>\n",
       "      <td>0</td>\n",
       "      <td>0</td>\n",
       "      <td>0</td>\n",
       "      <td>0</td>\n",
       "    </tr>\n",
       "    <tr>\n",
       "      <td>4</td>\n",
       "      <td>1</td>\n",
       "      <td>0</td>\n",
       "      <td>0</td>\n",
       "      <td>0</td>\n",
       "      <td>2</td>\n",
       "      <td>1</td>\n",
       "      <td>0</td>\n",
       "      <td>0</td>\n",
       "      <td>0</td>\n",
       "      <td>0</td>\n",
       "      <td>...</td>\n",
       "      <td>151.65</td>\n",
       "      <td>1</td>\n",
       "      <td>75.825000</td>\n",
       "      <td>1</td>\n",
       "      <td>0</td>\n",
       "      <td>0</td>\n",
       "      <td>0</td>\n",
       "      <td>0</td>\n",
       "      <td>1</td>\n",
       "      <td>0</td>\n",
       "    </tr>\n",
       "  </tbody>\n",
       "</table>\n",
       "<p>5 rows × 25 columns</p>\n",
       "</div>"
      ],
      "text/plain": [
       "   gender  senior  partner  dependents  tenure  phone_service  multiple_lines  \\\n",
       "0       1       0        1           0       1              0               0   \n",
       "1       0       0        0           0      34              1               0   \n",
       "2       0       0        0           0       2              1               0   \n",
       "3       0       0        0           0      45              0               0   \n",
       "4       1       0        0           0       2              1               0   \n",
       "\n",
       "   online_security  online_backup  device_protection  ...  total_charges  \\\n",
       "0                0              1                  0  ...          29.85   \n",
       "1                1              0                  1  ...        1889.50   \n",
       "2                1              1                  0  ...         108.15   \n",
       "3                1              0                  1  ...        1840.75   \n",
       "4                0              0                  0  ...         151.65   \n",
       "\n",
       "   churn  avg_monthly_charges  internet_service-fiber_optic  \\\n",
       "0      0            29.850000                             0   \n",
       "1      0            55.573529                             0   \n",
       "2      1            54.075000                             0   \n",
       "3      0            40.905556                             0   \n",
       "4      1            75.825000                             1   \n",
       "\n",
       "   internet_service-no  contract-one_year  contract-two_year  \\\n",
       "0                    0                  0                  0   \n",
       "1                    0                  1                  0   \n",
       "2                    0                  0                  0   \n",
       "3                    0                  1                  0   \n",
       "4                    0                  0                  0   \n",
       "\n",
       "   payment_method-credit_card_auto  payment_method-electronic_check  \\\n",
       "0                                0                                1   \n",
       "1                                0                                0   \n",
       "2                                0                                0   \n",
       "3                                0                                0   \n",
       "4                                0                                1   \n",
       "\n",
       "   payment_method-mailed_check  \n",
       "0                            0  \n",
       "1                            1  \n",
       "2                            1  \n",
       "3                            0  \n",
       "4                            0  \n",
       "\n",
       "[5 rows x 25 columns]"
      ]
     },
     "execution_count": 2,
     "metadata": {},
     "output_type": "execute_result"
    }
   ],
   "source": [
    "df = pd.read_csv('telco_chrun_encoded.csv')\n",
    "df.head()"
   ]
  },
  {
   "cell_type": "code",
   "execution_count": 3,
   "metadata": {},
   "outputs": [
    {
     "data": {
      "text/plain": [
       "(7032, 25)"
      ]
     },
     "execution_count": 3,
     "metadata": {},
     "output_type": "execute_result"
    }
   ],
   "source": [
    "df.shape"
   ]
  },
  {
   "cell_type": "code",
   "execution_count": 4,
   "metadata": {},
   "outputs": [
    {
     "data": {
      "text/plain": [
       "gender                             0\n",
       "senior                             0\n",
       "partner                            0\n",
       "dependents                         0\n",
       "tenure                             0\n",
       "phone_service                      0\n",
       "multiple_lines                     0\n",
       "online_security                    0\n",
       "online_backup                      0\n",
       "device_protection                  0\n",
       "tech_support                       0\n",
       "streaming_tv                       0\n",
       "streaming_movies                   0\n",
       "paperless_billing                  0\n",
       "monthly_charges                    0\n",
       "total_charges                      0\n",
       "churn                              0\n",
       "avg_monthly_charges                0\n",
       "internet_service-fiber_optic       0\n",
       "internet_service-no                0\n",
       "contract-one_year                  0\n",
       "contract-two_year                  0\n",
       "payment_method-credit_card_auto    0\n",
       "payment_method-electronic_check    0\n",
       "payment_method-mailed_check        0\n",
       "dtype: int64"
      ]
     },
     "execution_count": 4,
     "metadata": {},
     "output_type": "execute_result"
    }
   ],
   "source": [
    "df.isnull().sum()"
   ]
  },
  {
   "cell_type": "code",
   "execution_count": 5,
   "metadata": {},
   "outputs": [
    {
     "name": "stdout",
     "output_type": "stream",
     "text": [
      "<class 'pandas.core.frame.DataFrame'>\n",
      "RangeIndex: 7032 entries, 0 to 7031\n",
      "Data columns (total 25 columns):\n",
      "gender                             7032 non-null int64\n",
      "senior                             7032 non-null int64\n",
      "partner                            7032 non-null int64\n",
      "dependents                         7032 non-null int64\n",
      "tenure                             7032 non-null int64\n",
      "phone_service                      7032 non-null int64\n",
      "multiple_lines                     7032 non-null int64\n",
      "online_security                    7032 non-null int64\n",
      "online_backup                      7032 non-null int64\n",
      "device_protection                  7032 non-null int64\n",
      "tech_support                       7032 non-null int64\n",
      "streaming_tv                       7032 non-null int64\n",
      "streaming_movies                   7032 non-null int64\n",
      "paperless_billing                  7032 non-null int64\n",
      "monthly_charges                    7032 non-null float64\n",
      "total_charges                      7032 non-null float64\n",
      "churn                              7032 non-null int64\n",
      "avg_monthly_charges                7032 non-null float64\n",
      "internet_service-fiber_optic       7032 non-null int64\n",
      "internet_service-no                7032 non-null int64\n",
      "contract-one_year                  7032 non-null int64\n",
      "contract-two_year                  7032 non-null int64\n",
      "payment_method-credit_card_auto    7032 non-null int64\n",
      "payment_method-electronic_check    7032 non-null int64\n",
      "payment_method-mailed_check        7032 non-null int64\n",
      "dtypes: float64(3), int64(22)\n",
      "memory usage: 1.3 MB\n"
     ]
    }
   ],
   "source": [
    "df.info()"
   ]
  },
  {
   "cell_type": "code",
   "execution_count": 6,
   "metadata": {},
   "outputs": [
    {
     "data": {
      "text/plain": [
       "0    5163\n",
       "1    1869\n",
       "Name: churn, dtype: int64"
      ]
     },
     "execution_count": 6,
     "metadata": {},
     "output_type": "execute_result"
    }
   ],
   "source": [
    "df['churn'].value_counts()"
   ]
  },
  {
   "cell_type": "code",
   "execution_count": 7,
   "metadata": {},
   "outputs": [
    {
     "data": {
      "image/png": "[encoded data removed]",
      "text/plain": [
       "<Figure size 432x288 with 1 Axes>"
      ]
     },
     "metadata": {
      "needs_background": "light"
     },
     "output_type": "display_data"
    }
   ],
   "source": [
    "df['churn'].value_counts(normalize=True).plot.bar()\n",
    "plt.show()\n",
    "\n",
    "#about 25% churn"
   ]
  },
  {
   "cell_type": "code",
   "execution_count": 8,
   "metadata": {},
   "outputs": [],
   "source": [
    "df=df.sample(frac=1, random_state=3)\n",
    "y = df['churn']\n",
    "X = df.drop('churn', axis=1)"
   ]
  },
  {
   "cell_type": "markdown",
   "metadata": {},
   "source": [
    "### Building predictive algorithm using RANDOM FOREST"
   ]
  },
  {
   "cell_type": "code",
   "execution_count": 9,
   "metadata": {},
   "outputs": [],
   "source": [
    "from sklearn.model_selection import train_test_split"
   ]
  },
  {
   "cell_type": "code",
   "execution_count": 10,
   "metadata": {},
   "outputs": [],
   "source": [
    "X_train, X_test, y_train, y_test = train_test_split(X, y, test_size=0.3, random_state=3)"
   ]
  },
  {
   "cell_type": "code",
   "execution_count": 11,
   "metadata": {},
   "outputs": [],
   "source": [
    "from sklearn.ensemble import RandomForestClassifier"
   ]
  },
  {
   "cell_type": "code",
   "execution_count": 12,
   "metadata": {},
   "outputs": [],
   "source": [
    "from sklearn.metrics import confusion_matrix, accuracy_score, roc_auc_score, roc_curve"
   ]
  },
  {
   "cell_type": "code",
   "execution_count": 13,
   "metadata": {},
   "outputs": [
    {
     "name": "stdout",
     "output_type": "stream",
     "text": [
      "Confusion matrix - train dataset: \n",
      " [[3589    2]\n",
      " [   4 1327]]\n",
      "Overall accuracy of model - train dataset: 0.9987809833401057\n",
      "AUC Score - train dataset: 0.9999848314332873\n",
      "\n",
      "\n",
      "Confusion matrix - test dataset: \n",
      " [[1413  159]\n",
      " [ 257  281]]\n",
      "Overall accuracy of model - test dataset: 0.8028436018957346\n",
      "AUC Score - test dataset: 0.8313463066488833\n"
     ]
    },
    {
     "data": {
      "image/png": "[encoded data removed]",
      "text/plain": [
       "<Figure size 432x288 with 1 Axes>"
      ]
     },
     "metadata": {
      "needs_background": "light"
     },
     "output_type": "display_data"
    }
   ],
   "source": [
    "rfc = RandomForestClassifier()\n",
    "\n",
    "rfc.fit(X_train, y_train) \n",
    "\n",
    "y_train_pred = rfc.predict(X_train)\n",
    "y_train_prob = rfc.predict_proba(X_train)[:,1]\n",
    "\n",
    "print('Confusion matrix - train dataset:', '\\n', confusion_matrix(y_train, y_train_pred))\n",
    "print('Overall accuracy of model - train dataset:', accuracy_score(y_train, y_train_pred))\n",
    "print('AUC Score - train dataset:', roc_auc_score(y_train, y_train_prob))\n",
    "\n",
    "print('\\n')\n",
    "\n",
    "y_test_pred = rfc.predict(X_test)\n",
    "y_test_prob = rfc.predict_proba(X_test)[:,1]\n",
    "\n",
    "print('Confusion matrix - test dataset:', '\\n', confusion_matrix(y_test, y_test_pred))\n",
    "print('Overall accuracy of model - test dataset:', accuracy_score(y_test, y_test_pred))\n",
    "print('AUC Score - test dataset:', roc_auc_score(y_test, y_test_prob))\n",
    "\n",
    "fpr,tpr,thresholds = roc_curve(y_test, y_test_prob)\n",
    "plt.plot(fpr,tpr)\n",
    "plt.plot(fpr,fpr,'r')\n",
    "plt.xlabel('FPR')\n",
    "plt.ylabel('TPR')\n",
    "plt.show()"
   ]
  },
  {
   "cell_type": "markdown",
   "metadata": {},
   "source": [
    "### Hyperparameter Tuning of Random Forest"
   ]
  },
  {
   "cell_type": "code",
   "execution_count": 14,
   "metadata": {},
   "outputs": [],
   "source": [
    "from sklearn.model_selection import RandomizedSearchCV"
   ]
  },
  {
   "cell_type": "code",
   "execution_count": 15,
   "metadata": {},
   "outputs": [],
   "source": [
    "from scipy.stats import randint as sp_randint"
   ]
  },
  {
   "cell_type": "code",
   "execution_count": 16,
   "metadata": {},
   "outputs": [
    {
     "data": {
      "text/plain": [
       "RandomizedSearchCV(cv=3, error_score=nan,\n",
       "                   estimator=RandomForestClassifier(bootstrap=True,\n",
       "                                                    ccp_alpha=0.0,\n",
       "                                                    class_weight=None,\n",
       "                                                    criterion='gini',\n",
       "                                                    max_depth=None,\n",
       "                                                    max_features='auto',\n",
       "                                                    max_leaf_nodes=None,\n",
       "                                                    max_samples=None,\n",
       "                                                    min_impurity_decrease=0.0,\n",
       "                                                    min_impurity_split=None,\n",
       "                                                    min_samples_leaf=1,\n",
       "                                                    min_samples_split=2,\n",
       "                                                    min_weight_fraction_leaf=0.0,\n",
       "                                                    n_estimators=100,\n",
       "                                                    n_jobs...\n",
       "                                        'min_samples_leaf': <scipy.stats._distn_infrastructure.rv_frozen object at 0x000001739439B708>,\n",
       "                                        'min_samples_split': <scipy.stats._distn_infrastructure.rv_frozen object at 0x000001739439B588>,\n",
       "                                        'n_estimators': <scipy.stats._distn_infrastructure.rv_frozen object at 0x000001739439B048>},\n",
       "                   pre_dispatch='2*n_jobs', random_state=3, refit=True,\n",
       "                   return_train_score=True, scoring='roc_auc', verbose=0)"
      ]
     },
     "execution_count": 16,
     "metadata": {},
     "output_type": "execute_result"
    }
   ],
   "source": [
    "rfc = RandomForestClassifier(random_state=3)  #rfc will be estimator\n",
    "\n",
    "params = {\n",
    "    'n_estimators' : sp_randint(50,200),  #n_estimators taken as a range between 50 and 200 as only approx 8000 (data is not large)\n",
    "    'max_features' : sp_randint(1,24),     #how mnay features to be considered at each split\n",
    "    'max_depth' : sp_randint(2,10),\n",
    "    'min_samples_split' : sp_randint(2,20),\n",
    "    'min_samples_leaf' : sp_randint(1,20),\n",
    "    'criterion' : ['gini','entropy']\n",
    "}\n",
    "\n",
    "rsearch = RandomizedSearchCV(rfc, param_distributions=params, n_iter=200, cv=3, scoring='roc_auc', random_state=3,\\\n",
    "                   return_train_score=True)\n",
    "\n",
    "rsearch.fit(X,y)"
   ]
  },
  {
   "cell_type": "code",
   "execution_count": 17,
   "metadata": {},
   "outputs": [
    {
     "data": {
      "text/plain": [
       "{'criterion': 'entropy',\n",
       " 'max_depth': 7,\n",
       " 'max_features': 3,\n",
       " 'min_samples_leaf': 16,\n",
       " 'min_samples_split': 11,\n",
       " 'n_estimators': 150}"
      ]
     },
     "execution_count": 17,
     "metadata": {},
     "output_type": "execute_result"
    }
   ],
   "source": [
    "rsearch.best_params_"
   ]
  },
  {
   "cell_type": "code",
   "execution_count": 18,
   "metadata": {},
   "outputs": [
    {
     "data": {
      "text/html": [
       "<div>\n",
       "<style scoped>\n",
       "    .dataframe tbody tr th:only-of-type {\n",
       "        vertical-align: middle;\n",
       "    }\n",
       "\n",
       "    .dataframe tbody tr th {\n",
       "        vertical-align: top;\n",
       "    }\n",
       "\n",
       "    .dataframe thead th {\n",
       "        text-align: right;\n",
       "    }\n",
       "</style>\n",
       "<table border=\"1\" class=\"dataframe\">\n",
       "  <thead>\n",
       "    <tr style=\"text-align: right;\">\n",
       "      <th></th>\n",
       "      <th>mean_fit_time</th>\n",
       "      <th>std_fit_time</th>\n",
       "      <th>mean_score_time</th>\n",
       "      <th>std_score_time</th>\n",
       "      <th>param_criterion</th>\n",
       "      <th>param_max_depth</th>\n",
       "      <th>param_max_features</th>\n",
       "      <th>param_min_samples_leaf</th>\n",
       "      <th>param_min_samples_split</th>\n",
       "      <th>param_n_estimators</th>\n",
       "      <th>...</th>\n",
       "      <th>split1_test_score</th>\n",
       "      <th>split2_test_score</th>\n",
       "      <th>mean_test_score</th>\n",
       "      <th>std_test_score</th>\n",
       "      <th>rank_test_score</th>\n",
       "      <th>split0_train_score</th>\n",
       "      <th>split1_train_score</th>\n",
       "      <th>split2_train_score</th>\n",
       "      <th>mean_train_score</th>\n",
       "      <th>std_train_score</th>\n",
       "    </tr>\n",
       "  </thead>\n",
       "  <tbody>\n",
       "    <tr>\n",
       "      <td>0</td>\n",
       "      <td>0.333436</td>\n",
       "      <td>0.110667</td>\n",
       "      <td>0.045195</td>\n",
       "      <td>0.011493</td>\n",
       "      <td>gini</td>\n",
       "      <td>2</td>\n",
       "      <td>4</td>\n",
       "      <td>9</td>\n",
       "      <td>2</td>\n",
       "      <td>71</td>\n",
       "      <td>...</td>\n",
       "      <td>0.832900</td>\n",
       "      <td>0.835756</td>\n",
       "      <td>0.834112</td>\n",
       "      <td>0.001205</td>\n",
       "      <td>160</td>\n",
       "      <td>0.840169</td>\n",
       "      <td>0.839621</td>\n",
       "      <td>0.841050</td>\n",
       "      <td>0.840280</td>\n",
       "      <td>0.000588</td>\n",
       "    </tr>\n",
       "    <tr>\n",
       "      <td>1</td>\n",
       "      <td>2.284654</td>\n",
       "      <td>0.051388</td>\n",
       "      <td>0.131974</td>\n",
       "      <td>0.040670</td>\n",
       "      <td>entropy</td>\n",
       "      <td>5</td>\n",
       "      <td>11</td>\n",
       "      <td>12</td>\n",
       "      <td>11</td>\n",
       "      <td>188</td>\n",
       "      <td>...</td>\n",
       "      <td>0.840760</td>\n",
       "      <td>0.842430</td>\n",
       "      <td>0.842459</td>\n",
       "      <td>0.001399</td>\n",
       "      <td>76</td>\n",
       "      <td>0.862891</td>\n",
       "      <td>0.862800</td>\n",
       "      <td>0.860378</td>\n",
       "      <td>0.862023</td>\n",
       "      <td>0.001164</td>\n",
       "    </tr>\n",
       "    <tr>\n",
       "      <td>2</td>\n",
       "      <td>1.999153</td>\n",
       "      <td>0.172334</td>\n",
       "      <td>0.100494</td>\n",
       "      <td>0.002443</td>\n",
       "      <td>entropy</td>\n",
       "      <td>9</td>\n",
       "      <td>7</td>\n",
       "      <td>1</td>\n",
       "      <td>14</td>\n",
       "      <td>143</td>\n",
       "      <td>...</td>\n",
       "      <td>0.838745</td>\n",
       "      <td>0.846336</td>\n",
       "      <td>0.842738</td>\n",
       "      <td>0.003112</td>\n",
       "      <td>71</td>\n",
       "      <td>0.925901</td>\n",
       "      <td>0.926870</td>\n",
       "      <td>0.922670</td>\n",
       "      <td>0.925147</td>\n",
       "      <td>0.001796</td>\n",
       "    </tr>\n",
       "  </tbody>\n",
       "</table>\n",
       "<p>3 rows × 22 columns</p>\n",
       "</div>"
      ],
      "text/plain": [
       "   mean_fit_time  std_fit_time  mean_score_time  std_score_time  \\\n",
       "0       0.333436      0.110667         0.045195        0.011493   \n",
       "1       2.284654      0.051388         0.131974        0.040670   \n",
       "2       1.999153      0.172334         0.100494        0.002443   \n",
       "\n",
       "  param_criterion param_max_depth param_max_features param_min_samples_leaf  \\\n",
       "0            gini               2                  4                      9   \n",
       "1         entropy               5                 11                     12   \n",
       "2         entropy               9                  7                      1   \n",
       "\n",
       "  param_min_samples_split param_n_estimators  ... split1_test_score  \\\n",
       "0                       2                 71  ...          0.832900   \n",
       "1                      11                188  ...          0.840760   \n",
       "2                      14                143  ...          0.838745   \n",
       "\n",
       "   split2_test_score  mean_test_score  std_test_score  rank_test_score  \\\n",
       "0           0.835756         0.834112        0.001205              160   \n",
       "1           0.842430         0.842459        0.001399               76   \n",
       "2           0.846336         0.842738        0.003112               71   \n",
       "\n",
       "   split0_train_score  split1_train_score  split2_train_score  \\\n",
       "0            0.840169            0.839621            0.841050   \n",
       "1            0.862891            0.862800            0.860378   \n",
       "2            0.925901            0.926870            0.922670   \n",
       "\n",
       "   mean_train_score  std_train_score  \n",
       "0          0.840280         0.000588  \n",
       "1          0.862023         0.001164  \n",
       "2          0.925147         0.001796  \n",
       "\n",
       "[3 rows x 22 columns]"
      ]
     },
     "execution_count": 18,
     "metadata": {},
     "output_type": "execute_result"
    }
   ],
   "source": [
    "pd.DataFrame(rsearch.cv_results_).head(3)"
   ]
  },
  {
   "cell_type": "code",
   "execution_count": 19,
   "metadata": {},
   "outputs": [],
   "source": [
    "#rank_test_score = 1 best parameter"
   ]
  },
  {
   "cell_type": "code",
   "execution_count": 20,
   "metadata": {},
   "outputs": [
    {
     "name": "stdout",
     "output_type": "stream",
     "text": [
      "Confusion matrix - train dataset: \n",
      " [[3327  264]\n",
      " [ 663  668]]\n",
      "Overall accuracy of model - train dataset: 0.8116619260463226\n",
      "AUC Score - train dataset: 0.8728908631039993\n",
      "\n",
      "\n",
      "Confusion matrix - test dataset: \n",
      " [[1434  138]\n",
      " [ 285  253]]\n",
      "Overall accuracy of model - test dataset: 0.7995260663507109\n",
      "AUC Score - test dataset: 0.8427700842816198\n"
     ]
    },
    {
     "data": {
      "image/png": "[encoded data removed]",
      "text/plain": [
       "<Figure size 432x288 with 1 Axes>"
      ]
     },
     "metadata": {
      "needs_background": "light"
     },
     "output_type": "display_data"
    }
   ],
   "source": [
    "rfc = RandomForestClassifier(**rsearch.best_params_, random_state=3)\n",
    "\n",
    "rfc.fit(X_train, y_train) \n",
    "\n",
    "y_train_pred = rfc.predict(X_train)\n",
    "y_train_prob = rfc.predict_proba(X_train)[:,1]\n",
    "\n",
    "print('Confusion matrix - train dataset:', '\\n', confusion_matrix(y_train, y_train_pred))\n",
    "print('Overall accuracy of model - train dataset:', accuracy_score(y_train, y_train_pred))\n",
    "print('AUC Score - train dataset:', roc_auc_score(y_train, y_train_prob))\n",
    "\n",
    "print('\\n')\n",
    "\n",
    "y_test_pred = rfc.predict(X_test)\n",
    "y_test_prob = rfc.predict_proba(X_test)[:,1]\n",
    "\n",
    "print('Confusion matrix - test dataset:', '\\n', confusion_matrix(y_test, y_test_pred))\n",
    "print('Overall accuracy of model - test dataset:', accuracy_score(y_test, y_test_pred))\n",
    "print('AUC Score - test dataset:', roc_auc_score(y_test, y_test_prob))\n",
    "\n",
    "fpr,tpr,thresholds = roc_curve(y_test, y_test_prob)\n",
    "plt.plot(fpr,tpr)\n",
    "plt.plot(fpr,fpr,'r')\n",
    "plt.xlabel('FPR')\n",
    "plt.ylabel('TPR')\n",
    "plt.show()"
   ]
  },
  {
   "cell_type": "code",
   "execution_count": 21,
   "metadata": {},
   "outputs": [
    {
     "data": {
      "text/html": [
       "<div>\n",
       "<style scoped>\n",
       "    .dataframe tbody tr th:only-of-type {\n",
       "        vertical-align: middle;\n",
       "    }\n",
       "\n",
       "    .dataframe tbody tr th {\n",
       "        vertical-align: top;\n",
       "    }\n",
       "\n",
       "    .dataframe thead th {\n",
       "        text-align: right;\n",
       "    }\n",
       "</style>\n",
       "<table border=\"1\" class=\"dataframe\">\n",
       "  <thead>\n",
       "    <tr style=\"text-align: right;\">\n",
       "      <th></th>\n",
       "      <th>Importance</th>\n",
       "    </tr>\n",
       "  </thead>\n",
       "  <tbody>\n",
       "    <tr>\n",
       "      <td>tenure</td>\n",
       "      <td>0.167668</td>\n",
       "    </tr>\n",
       "    <tr>\n",
       "      <td>total_charges</td>\n",
       "      <td>0.118225</td>\n",
       "    </tr>\n",
       "    <tr>\n",
       "      <td>contract-two_year</td>\n",
       "      <td>0.115427</td>\n",
       "    </tr>\n",
       "    <tr>\n",
       "      <td>internet_service-fiber_optic</td>\n",
       "      <td>0.102802</td>\n",
       "    </tr>\n",
       "    <tr>\n",
       "      <td>avg_monthly_charges</td>\n",
       "      <td>0.081099</td>\n",
       "    </tr>\n",
       "    <tr>\n",
       "      <td>monthly_charges</td>\n",
       "      <td>0.076776</td>\n",
       "    </tr>\n",
       "    <tr>\n",
       "      <td>payment_method-electronic_check</td>\n",
       "      <td>0.058994</td>\n",
       "    </tr>\n",
       "    <tr>\n",
       "      <td>contract-one_year</td>\n",
       "      <td>0.051336</td>\n",
       "    </tr>\n",
       "    <tr>\n",
       "      <td>internet_service-no</td>\n",
       "      <td>0.051219</td>\n",
       "    </tr>\n",
       "    <tr>\n",
       "      <td>online_security</td>\n",
       "      <td>0.036345</td>\n",
       "    </tr>\n",
       "    <tr>\n",
       "      <td>tech_support</td>\n",
       "      <td>0.030181</td>\n",
       "    </tr>\n",
       "    <tr>\n",
       "      <td>paperless_billing</td>\n",
       "      <td>0.017064</td>\n",
       "    </tr>\n",
       "    <tr>\n",
       "      <td>dependents</td>\n",
       "      <td>0.010893</td>\n",
       "    </tr>\n",
       "    <tr>\n",
       "      <td>online_backup</td>\n",
       "      <td>0.010878</td>\n",
       "    </tr>\n",
       "    <tr>\n",
       "      <td>multiple_lines</td>\n",
       "      <td>0.009053</td>\n",
       "    </tr>\n",
       "    <tr>\n",
       "      <td>payment_method-credit_card_auto</td>\n",
       "      <td>0.008517</td>\n",
       "    </tr>\n",
       "    <tr>\n",
       "      <td>senior</td>\n",
       "      <td>0.008456</td>\n",
       "    </tr>\n",
       "    <tr>\n",
       "      <td>partner</td>\n",
       "      <td>0.008016</td>\n",
       "    </tr>\n",
       "    <tr>\n",
       "      <td>streaming_movies</td>\n",
       "      <td>0.007559</td>\n",
       "    </tr>\n",
       "    <tr>\n",
       "      <td>streaming_tv</td>\n",
       "      <td>0.007276</td>\n",
       "    </tr>\n",
       "    <tr>\n",
       "      <td>device_protection</td>\n",
       "      <td>0.006609</td>\n",
       "    </tr>\n",
       "    <tr>\n",
       "      <td>phone_service</td>\n",
       "      <td>0.006300</td>\n",
       "    </tr>\n",
       "    <tr>\n",
       "      <td>payment_method-mailed_check</td>\n",
       "      <td>0.005065</td>\n",
       "    </tr>\n",
       "    <tr>\n",
       "      <td>gender</td>\n",
       "      <td>0.004241</td>\n",
       "    </tr>\n",
       "  </tbody>\n",
       "</table>\n",
       "</div>"
      ],
      "text/plain": [
       "                                 Importance\n",
       "tenure                             0.167668\n",
       "total_charges                      0.118225\n",
       "contract-two_year                  0.115427\n",
       "internet_service-fiber_optic       0.102802\n",
       "avg_monthly_charges                0.081099\n",
       "monthly_charges                    0.076776\n",
       "payment_method-electronic_check    0.058994\n",
       "contract-one_year                  0.051336\n",
       "internet_service-no                0.051219\n",
       "online_security                    0.036345\n",
       "tech_support                       0.030181\n",
       "paperless_billing                  0.017064\n",
       "dependents                         0.010893\n",
       "online_backup                      0.010878\n",
       "multiple_lines                     0.009053\n",
       "payment_method-credit_card_auto    0.008517\n",
       "senior                             0.008456\n",
       "partner                            0.008016\n",
       "streaming_movies                   0.007559\n",
       "streaming_tv                       0.007276\n",
       "device_protection                  0.006609\n",
       "phone_service                      0.006300\n",
       "payment_method-mailed_check        0.005065\n",
       "gender                             0.004241"
      ]
     },
     "execution_count": 21,
     "metadata": {},
     "output_type": "execute_result"
    }
   ],
   "source": [
    "imp = pd.DataFrame(rfc.feature_importances_, index=X.columns, columns=['Importance'])\n",
    "imp = imp.sort_values(by='Importance', ascending=False)\n",
    "imp\n",
    "\n",
    "#if tenure is removed from model, then accuracy of model will drop by 16%\n",
    "#similarly, for other features\n",
    "#Importance shows how much accuracy will decrease if a feature is removed\n",
    "#can be used for feature selection, but features can be removed only if importnace is zero\n",
    "#here, no features should be removed"
   ]
  },
  {
   "cell_type": "code",
   "execution_count": null,
   "metadata": {},
   "outputs": [],
   "source": []
  }
 ],
 "metadata": {
  "kernelspec": {
   "display_name": "Python 3",
   "language": "python",
   "name": "python3"
  },
  "language_info": {
   "codemirror_mode": {
    "name": "ipython",
    "version": 3
   },
   "file_extension": ".py",
   "mimetype": "text/x-python",
   "name": "python",
   "nbconvert_exporter": "python",
   "pygments_lexer": "ipython3",
   "version": "3.7.4"
  }
 },
 "nbformat": 4,
 "nbformat_minor": 2
}
