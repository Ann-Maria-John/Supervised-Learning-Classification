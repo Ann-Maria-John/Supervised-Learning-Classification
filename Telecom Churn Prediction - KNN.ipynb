{
 "cells": [
  {
   "cell_type": "code",
   "execution_count": 1,
   "metadata": {},
   "outputs": [],
   "source": [
    "import pandas as pd\n",
    "import numpy as np\n",
    "import matplotlib.pyplot as plt\n",
    "import seaborn as sns"
   ]
  },
  {
   "cell_type": "code",
   "execution_count": 2,
   "metadata": {
    "scrolled": true
   },
   "outputs": [
    {
     "data": {
      "text/html": [
       "<div>\n",
       "<style scoped>\n",
       "    .dataframe tbody tr th:only-of-type {\n",
       "        vertical-align: middle;\n",
       "    }\n",
       "\n",
       "    .dataframe tbody tr th {\n",
       "        vertical-align: top;\n",
       "    }\n",
       "\n",
       "    .dataframe thead th {\n",
       "        text-align: right;\n",
       "    }\n",
       "</style>\n",
       "<table border=\"1\" class=\"dataframe\">\n",
       "  <thead>\n",
       "    <tr style=\"text-align: right;\">\n",
       "      <th></th>\n",
       "      <th>gender</th>\n",
       "      <th>senior</th>\n",
       "      <th>partner</th>\n",
       "      <th>dependents</th>\n",
       "      <th>tenure</th>\n",
       "      <th>phone_service</th>\n",
       "      <th>multiple_lines</th>\n",
       "      <th>online_security</th>\n",
       "      <th>online_backup</th>\n",
       "      <th>device_protection</th>\n",
       "      <th>...</th>\n",
       "      <th>total_charges</th>\n",
       "      <th>churn</th>\n",
       "      <th>avg_monthly_charges</th>\n",
       "      <th>internet_service-fiber_optic</th>\n",
       "      <th>internet_service-no</th>\n",
       "      <th>contract-one_year</th>\n",
       "      <th>contract-two_year</th>\n",
       "      <th>payment_method-credit_card_auto</th>\n",
       "      <th>payment_method-electronic_check</th>\n",
       "      <th>payment_method-mailed_check</th>\n",
       "    </tr>\n",
       "  </thead>\n",
       "  <tbody>\n",
       "    <tr>\n",
       "      <td>5571</td>\n",
       "      <td>0</td>\n",
       "      <td>0</td>\n",
       "      <td>0</td>\n",
       "      <td>0</td>\n",
       "      <td>48</td>\n",
       "      <td>1</td>\n",
       "      <td>0</td>\n",
       "      <td>0</td>\n",
       "      <td>0</td>\n",
       "      <td>0</td>\n",
       "      <td>...</td>\n",
       "      <td>1004.50</td>\n",
       "      <td>0</td>\n",
       "      <td>20.927083</td>\n",
       "      <td>0</td>\n",
       "      <td>1</td>\n",
       "      <td>1</td>\n",
       "      <td>0</td>\n",
       "      <td>0</td>\n",
       "      <td>0</td>\n",
       "      <td>0</td>\n",
       "    </tr>\n",
       "    <tr>\n",
       "      <td>3432</td>\n",
       "      <td>0</td>\n",
       "      <td>0</td>\n",
       "      <td>1</td>\n",
       "      <td>0</td>\n",
       "      <td>18</td>\n",
       "      <td>1</td>\n",
       "      <td>1</td>\n",
       "      <td>0</td>\n",
       "      <td>0</td>\n",
       "      <td>0</td>\n",
       "      <td>...</td>\n",
       "      <td>1687.95</td>\n",
       "      <td>1</td>\n",
       "      <td>93.775000</td>\n",
       "      <td>1</td>\n",
       "      <td>0</td>\n",
       "      <td>0</td>\n",
       "      <td>0</td>\n",
       "      <td>0</td>\n",
       "      <td>1</td>\n",
       "      <td>0</td>\n",
       "    </tr>\n",
       "    <tr>\n",
       "      <td>2170</td>\n",
       "      <td>1</td>\n",
       "      <td>0</td>\n",
       "      <td>0</td>\n",
       "      <td>0</td>\n",
       "      <td>30</td>\n",
       "      <td>1</td>\n",
       "      <td>0</td>\n",
       "      <td>0</td>\n",
       "      <td>0</td>\n",
       "      <td>0</td>\n",
       "      <td>...</td>\n",
       "      <td>2555.90</td>\n",
       "      <td>1</td>\n",
       "      <td>85.196667</td>\n",
       "      <td>1</td>\n",
       "      <td>0</td>\n",
       "      <td>0</td>\n",
       "      <td>0</td>\n",
       "      <td>0</td>\n",
       "      <td>1</td>\n",
       "      <td>0</td>\n",
       "    </tr>\n",
       "    <tr>\n",
       "      <td>4230</td>\n",
       "      <td>0</td>\n",
       "      <td>0</td>\n",
       "      <td>0</td>\n",
       "      <td>0</td>\n",
       "      <td>5</td>\n",
       "      <td>1</td>\n",
       "      <td>0</td>\n",
       "      <td>0</td>\n",
       "      <td>0</td>\n",
       "      <td>1</td>\n",
       "      <td>...</td>\n",
       "      <td>346.40</td>\n",
       "      <td>1</td>\n",
       "      <td>69.280000</td>\n",
       "      <td>0</td>\n",
       "      <td>0</td>\n",
       "      <td>0</td>\n",
       "      <td>0</td>\n",
       "      <td>0</td>\n",
       "      <td>1</td>\n",
       "      <td>0</td>\n",
       "    </tr>\n",
       "    <tr>\n",
       "      <td>510</td>\n",
       "      <td>0</td>\n",
       "      <td>0</td>\n",
       "      <td>0</td>\n",
       "      <td>0</td>\n",
       "      <td>61</td>\n",
       "      <td>1</td>\n",
       "      <td>1</td>\n",
       "      <td>1</td>\n",
       "      <td>0</td>\n",
       "      <td>1</td>\n",
       "      <td>...</td>\n",
       "      <td>6300.15</td>\n",
       "      <td>0</td>\n",
       "      <td>103.281148</td>\n",
       "      <td>1</td>\n",
       "      <td>0</td>\n",
       "      <td>0</td>\n",
       "      <td>0</td>\n",
       "      <td>0</td>\n",
       "      <td>1</td>\n",
       "      <td>0</td>\n",
       "    </tr>\n",
       "  </tbody>\n",
       "</table>\n",
       "<p>5 rows × 25 columns</p>\n",
       "</div>"
      ],
      "text/plain": [
       "      gender  senior  partner  dependents  tenure  phone_service  \\\n",
       "5571       0       0        0           0      48              1   \n",
       "3432       0       0        1           0      18              1   \n",
       "2170       1       0        0           0      30              1   \n",
       "4230       0       0        0           0       5              1   \n",
       "510        0       0        0           0      61              1   \n",
       "\n",
       "      multiple_lines  online_security  online_backup  device_protection  ...  \\\n",
       "5571               0                0              0                  0  ...   \n",
       "3432               1                0              0                  0  ...   \n",
       "2170               0                0              0                  0  ...   \n",
       "4230               0                0              0                  1  ...   \n",
       "510                1                1              0                  1  ...   \n",
       "\n",
       "      total_charges  churn  avg_monthly_charges  internet_service-fiber_optic  \\\n",
       "5571        1004.50      0            20.927083                             0   \n",
       "3432        1687.95      1            93.775000                             1   \n",
       "2170        2555.90      1            85.196667                             1   \n",
       "4230         346.40      1            69.280000                             0   \n",
       "510         6300.15      0           103.281148                             1   \n",
       "\n",
       "      internet_service-no  contract-one_year  contract-two_year  \\\n",
       "5571                    1                  1                  0   \n",
       "3432                    0                  0                  0   \n",
       "2170                    0                  0                  0   \n",
       "4230                    0                  0                  0   \n",
       "510                     0                  0                  0   \n",
       "\n",
       "      payment_method-credit_card_auto  payment_method-electronic_check  \\\n",
       "5571                                0                                0   \n",
       "3432                                0                                1   \n",
       "2170                                0                                1   \n",
       "4230                                0                                1   \n",
       "510                                 0                                1   \n",
       "\n",
       "      payment_method-mailed_check  \n",
       "5571                            0  \n",
       "3432                            0  \n",
       "2170                            0  \n",
       "4230                            0  \n",
       "510                             0  \n",
       "\n",
       "[5 rows x 25 columns]"
      ]
     },
     "execution_count": 2,
     "metadata": {},
     "output_type": "execute_result"
    }
   ],
   "source": [
    "df = pd.read_csv('telco_chrun_encoded.csv')\n",
    "df = df.sample(frac=0.25, random_state=3)\n",
    "df.head()"
   ]
  },
  {
   "cell_type": "code",
   "execution_count": 3,
   "metadata": {},
   "outputs": [
    {
     "data": {
      "text/plain": [
       "(1758, 25)"
      ]
     },
     "execution_count": 3,
     "metadata": {},
     "output_type": "execute_result"
    }
   ],
   "source": [
    "df.shape"
   ]
  },
  {
   "cell_type": "code",
   "execution_count": 4,
   "metadata": {},
   "outputs": [
    {
     "data": {
      "text/plain": [
       "gender                             0\n",
       "senior                             0\n",
       "partner                            0\n",
       "dependents                         0\n",
       "tenure                             0\n",
       "phone_service                      0\n",
       "multiple_lines                     0\n",
       "online_security                    0\n",
       "online_backup                      0\n",
       "device_protection                  0\n",
       "tech_support                       0\n",
       "streaming_tv                       0\n",
       "streaming_movies                   0\n",
       "paperless_billing                  0\n",
       "monthly_charges                    0\n",
       "total_charges                      0\n",
       "churn                              0\n",
       "avg_monthly_charges                0\n",
       "internet_service-fiber_optic       0\n",
       "internet_service-no                0\n",
       "contract-one_year                  0\n",
       "contract-two_year                  0\n",
       "payment_method-credit_card_auto    0\n",
       "payment_method-electronic_check    0\n",
       "payment_method-mailed_check        0\n",
       "dtype: int64"
      ]
     },
     "execution_count": 4,
     "metadata": {},
     "output_type": "execute_result"
    }
   ],
   "source": [
    "df.isnull().sum()"
   ]
  },
  {
   "cell_type": "code",
   "execution_count": 5,
   "metadata": {},
   "outputs": [
    {
     "name": "stdout",
     "output_type": "stream",
     "text": [
      "<class 'pandas.core.frame.DataFrame'>\n",
      "Int64Index: 1758 entries, 5571 to 3151\n",
      "Data columns (total 25 columns):\n",
      "gender                             1758 non-null int64\n",
      "senior                             1758 non-null int64\n",
      "partner                            1758 non-null int64\n",
      "dependents                         1758 non-null int64\n",
      "tenure                             1758 non-null int64\n",
      "phone_service                      1758 non-null int64\n",
      "multiple_lines                     1758 non-null int64\n",
      "online_security                    1758 non-null int64\n",
      "online_backup                      1758 non-null int64\n",
      "device_protection                  1758 non-null int64\n",
      "tech_support                       1758 non-null int64\n",
      "streaming_tv                       1758 non-null int64\n",
      "streaming_movies                   1758 non-null int64\n",
      "paperless_billing                  1758 non-null int64\n",
      "monthly_charges                    1758 non-null float64\n",
      "total_charges                      1758 non-null float64\n",
      "churn                              1758 non-null int64\n",
      "avg_monthly_charges                1758 non-null float64\n",
      "internet_service-fiber_optic       1758 non-null int64\n",
      "internet_service-no                1758 non-null int64\n",
      "contract-one_year                  1758 non-null int64\n",
      "contract-two_year                  1758 non-null int64\n",
      "payment_method-credit_card_auto    1758 non-null int64\n",
      "payment_method-electronic_check    1758 non-null int64\n",
      "payment_method-mailed_check        1758 non-null int64\n",
      "dtypes: float64(3), int64(22)\n",
      "memory usage: 357.1 KB\n"
     ]
    }
   ],
   "source": [
    "df.info()"
   ]
  },
  {
   "cell_type": "code",
   "execution_count": 6,
   "metadata": {},
   "outputs": [
    {
     "data": {
      "text/plain": [
       "0    1318\n",
       "1     440\n",
       "Name: churn, dtype: int64"
      ]
     },
     "execution_count": 6,
     "metadata": {},
     "output_type": "execute_result"
    }
   ],
   "source": [
    "df['churn'].value_counts()"
   ]
  },
  {
   "cell_type": "code",
   "execution_count": 7,
   "metadata": {},
   "outputs": [
    {
     "data": {
      "image/png": "[encoded data removed]",
      "text/plain": [
       "<Figure size 432x288 with 1 Axes>"
      ]
     },
     "metadata": {
      "needs_background": "light"
     },
     "output_type": "display_data"
    }
   ],
   "source": [
    "df['churn'].value_counts(normalize=True).plot.bar()\n",
    "plt.show()\n",
    "\n",
    "#about 25% churn"
   ]
  },
  {
   "cell_type": "code",
   "execution_count": 8,
   "metadata": {},
   "outputs": [],
   "source": [
    "df=df.sample(frac=1, random_state=3)\n",
    "y = df['churn']\n",
    "X = df.drop('churn', axis=1)"
   ]
  },
  {
   "cell_type": "markdown",
   "metadata": {},
   "source": [
    "### Building predictive algorithm using RANDOM FOREST"
   ]
  },
  {
   "cell_type": "code",
   "execution_count": 9,
   "metadata": {},
   "outputs": [],
   "source": [
    "from sklearn.model_selection import train_test_split"
   ]
  },
  {
   "cell_type": "code",
   "execution_count": 10,
   "metadata": {},
   "outputs": [],
   "source": [
    "X_train, X_test, y_train, y_test = train_test_split(X, y, test_size=0.3, random_state=3)"
   ]
  },
  {
   "cell_type": "markdown",
   "metadata": {},
   "source": [
    "### STANDARDIZING DATA"
   ]
  },
  {
   "cell_type": "code",
   "execution_count": 11,
   "metadata": {},
   "outputs": [],
   "source": [
    "from sklearn.preprocessing import StandardScaler\n",
    "\n",
    "ss=StandardScaler()\n",
    "Xs=ss.fit_transform(X)\n",
    "\n",
    "X_trains=ss.fit_transform(X_train)\n",
    "X_tests=ss.transform(X_test)"
   ]
  },
  {
   "cell_type": "code",
   "execution_count": 12,
   "metadata": {},
   "outputs": [],
   "source": [
    "from sklearn.ensemble import RandomForestClassifier"
   ]
  },
  {
   "cell_type": "code",
   "execution_count": 13,
   "metadata": {},
   "outputs": [],
   "source": [
    "from sklearn.metrics import confusion_matrix, accuracy_score, roc_auc_score, roc_curve"
   ]
  },
  {
   "cell_type": "code",
   "execution_count": 14,
   "metadata": {},
   "outputs": [
    {
     "name": "stdout",
     "output_type": "stream",
     "text": [
      "Confusion matrix - train dataset: \n",
      " [[912   0]\n",
      " [  0 318]]\n",
      "Overall accuracy of model - train dataset: 1.0\n",
      "AUC Score - train dataset: 1.0\n",
      "\n",
      "\n",
      "Confusion matrix - test dataset: \n",
      " [[374  32]\n",
      " [ 73  49]]\n",
      "Overall accuracy of model - test dataset: 0.8011363636363636\n",
      "AUC Score - test dataset: 0.8204595009286925\n"
     ]
    },
    {
     "data": {
      "image/png": "[encoded data removed]",
      "text/plain": [
       "<Figure size 432x288 with 1 Axes>"
      ]
     },
     "metadata": {
      "needs_background": "light"
     },
     "output_type": "display_data"
    }
   ],
   "source": [
    "rfc = RandomForestClassifier()\n",
    "\n",
    "rfc.fit(X_trains, y_train) \n",
    "\n",
    "y_train_pred = rfc.predict(X_trains)\n",
    "y_train_prob = rfc.predict_proba(X_trains)[:,1]\n",
    "\n",
    "print('Confusion matrix - train dataset:', '\\n', confusion_matrix(y_train, y_train_pred))\n",
    "print('Overall accuracy of model - train dataset:', accuracy_score(y_train, y_train_pred))\n",
    "print('AUC Score - train dataset:', roc_auc_score(y_train, y_train_prob))\n",
    "\n",
    "print('\\n')\n",
    "\n",
    "y_test_pred = rfc.predict(X_tests)\n",
    "y_test_prob = rfc.predict_proba(X_tests)[:,1]\n",
    "\n",
    "print('Confusion matrix - test dataset:', '\\n', confusion_matrix(y_test, y_test_pred))\n",
    "print('Overall accuracy of model - test dataset:', accuracy_score(y_test, y_test_pred))\n",
    "print('AUC Score - test dataset:', roc_auc_score(y_test, y_test_prob))\n",
    "\n",
    "fpr,tpr,thresholds = roc_curve(y_test, y_test_prob)\n",
    "plt.plot(fpr,tpr)\n",
    "plt.plot(fpr,fpr,'r')\n",
    "plt.xlabel('FPR')\n",
    "plt.ylabel('TPR')\n",
    "plt.show()"
   ]
  },
  {
   "cell_type": "markdown",
   "metadata": {},
   "source": [
    "### Hyperparameter Tuning of Random Forest"
   ]
  },
  {
   "cell_type": "code",
   "execution_count": 15,
   "metadata": {},
   "outputs": [],
   "source": [
    "from sklearn.model_selection import RandomizedSearchCV"
   ]
  },
  {
   "cell_type": "code",
   "execution_count": 16,
   "metadata": {},
   "outputs": [],
   "source": [
    "from scipy.stats import randint as sp_randint"
   ]
  },
  {
   "cell_type": "code",
   "execution_count": 17,
   "metadata": {},
   "outputs": [
    {
     "data": {
      "text/plain": [
       "RandomizedSearchCV(cv=3, error_score=nan,\n",
       "                   estimator=RandomForestClassifier(bootstrap=True,\n",
       "                                                    ccp_alpha=0.0,\n",
       "                                                    class_weight=None,\n",
       "                                                    criterion='gini',\n",
       "                                                    max_depth=None,\n",
       "                                                    max_features='auto',\n",
       "                                                    max_leaf_nodes=None,\n",
       "                                                    max_samples=None,\n",
       "                                                    min_impurity_decrease=0.0,\n",
       "                                                    min_impurity_split=None,\n",
       "                                                    min_samples_leaf=1,\n",
       "                                                    min_samples_split=2,\n",
       "                                                    min_weight_fraction_leaf=0.0,\n",
       "                                                    n_estimators=100,\n",
       "                                                    n_jobs...\n",
       "                                        'min_samples_leaf': <scipy.stats._distn_infrastructure.rv_frozen object at 0x00000165934B6E08>,\n",
       "                                        'min_samples_split': <scipy.stats._distn_infrastructure.rv_frozen object at 0x00000165934378C8>,\n",
       "                                        'n_estimators': <scipy.stats._distn_infrastructure.rv_frozen object at 0x0000016593418CC8>},\n",
       "                   pre_dispatch='2*n_jobs', random_state=3, refit=True,\n",
       "                   return_train_score=True, scoring='roc_auc', verbose=0)"
      ]
     },
     "execution_count": 17,
     "metadata": {},
     "output_type": "execute_result"
    }
   ],
   "source": [
    "rfc = RandomForestClassifier(random_state=3)  #rfc will be estimator\n",
    "\n",
    "params = {\n",
    "    'n_estimators' : sp_randint(50,200),  #n_estimators taken as a range between 50 and 200 as only approx 8000 (data is not large)\n",
    "    'max_features' : sp_randint(1,24),     #how mnay features to be considered at each split\n",
    "    'max_depth' : sp_randint(2,10),\n",
    "    'min_samples_split' : sp_randint(2,20),\n",
    "    'min_samples_leaf' : sp_randint(1,20),\n",
    "    'criterion' : ['gini','entropy']\n",
    "}\n",
    "\n",
    "rsearch_rfc = RandomizedSearchCV(rfc, param_distributions=params, n_iter=200, cv=3, scoring='roc_auc', random_state=3,\\\n",
    "                   return_train_score=True, n_jobs=-1)\n",
    "\n",
    "rsearch_rfc.fit(Xs,y)"
   ]
  },
  {
   "cell_type": "code",
   "execution_count": 18,
   "metadata": {},
   "outputs": [
    {
     "data": {
      "text/plain": [
       "{'criterion': 'gini',\n",
       " 'max_depth': 5,\n",
       " 'max_features': 2,\n",
       " 'min_samples_leaf': 9,\n",
       " 'min_samples_split': 12,\n",
       " 'n_estimators': 176}"
      ]
     },
     "execution_count": 18,
     "metadata": {},
     "output_type": "execute_result"
    }
   ],
   "source": [
    "rsearch_rfc.best_params_"
   ]
  },
  {
   "cell_type": "code",
   "execution_count": 19,
   "metadata": {},
   "outputs": [
    {
     "data": {
      "text/html": [
       "<div>\n",
       "<style scoped>\n",
       "    .dataframe tbody tr th:only-of-type {\n",
       "        vertical-align: middle;\n",
       "    }\n",
       "\n",
       "    .dataframe tbody tr th {\n",
       "        vertical-align: top;\n",
       "    }\n",
       "\n",
       "    .dataframe thead th {\n",
       "        text-align: right;\n",
       "    }\n",
       "</style>\n",
       "<table border=\"1\" class=\"dataframe\">\n",
       "  <thead>\n",
       "    <tr style=\"text-align: right;\">\n",
       "      <th></th>\n",
       "      <th>mean_fit_time</th>\n",
       "      <th>std_fit_time</th>\n",
       "      <th>mean_score_time</th>\n",
       "      <th>std_score_time</th>\n",
       "      <th>param_criterion</th>\n",
       "      <th>param_max_depth</th>\n",
       "      <th>param_max_features</th>\n",
       "      <th>param_min_samples_leaf</th>\n",
       "      <th>param_min_samples_split</th>\n",
       "      <th>param_n_estimators</th>\n",
       "      <th>...</th>\n",
       "      <th>split1_test_score</th>\n",
       "      <th>split2_test_score</th>\n",
       "      <th>mean_test_score</th>\n",
       "      <th>std_test_score</th>\n",
       "      <th>rank_test_score</th>\n",
       "      <th>split0_train_score</th>\n",
       "      <th>split1_train_score</th>\n",
       "      <th>split2_train_score</th>\n",
       "      <th>mean_train_score</th>\n",
       "      <th>std_train_score</th>\n",
       "    </tr>\n",
       "  </thead>\n",
       "  <tbody>\n",
       "    <tr>\n",
       "      <td>0</td>\n",
       "      <td>0.161237</td>\n",
       "      <td>0.006219</td>\n",
       "      <td>0.019282</td>\n",
       "      <td>0.000471</td>\n",
       "      <td>gini</td>\n",
       "      <td>2</td>\n",
       "      <td>4</td>\n",
       "      <td>9</td>\n",
       "      <td>2</td>\n",
       "      <td>71</td>\n",
       "      <td>...</td>\n",
       "      <td>0.820193</td>\n",
       "      <td>0.860391</td>\n",
       "      <td>0.839695</td>\n",
       "      <td>0.016432</td>\n",
       "      <td>86</td>\n",
       "      <td>0.851891</td>\n",
       "      <td>0.863141</td>\n",
       "      <td>0.847861</td>\n",
       "      <td>0.854298</td>\n",
       "      <td>0.006466</td>\n",
       "    </tr>\n",
       "    <tr>\n",
       "      <td>1</td>\n",
       "      <td>1.019275</td>\n",
       "      <td>0.002157</td>\n",
       "      <td>0.073469</td>\n",
       "      <td>0.004910</td>\n",
       "      <td>entropy</td>\n",
       "      <td>5</td>\n",
       "      <td>11</td>\n",
       "      <td>12</td>\n",
       "      <td>11</td>\n",
       "      <td>188</td>\n",
       "      <td>...</td>\n",
       "      <td>0.825686</td>\n",
       "      <td>0.857776</td>\n",
       "      <td>0.842070</td>\n",
       "      <td>0.013109</td>\n",
       "      <td>51</td>\n",
       "      <td>0.891880</td>\n",
       "      <td>0.896644</td>\n",
       "      <td>0.884538</td>\n",
       "      <td>0.891021</td>\n",
       "      <td>0.004980</td>\n",
       "    </tr>\n",
       "    <tr>\n",
       "      <td>2</td>\n",
       "      <td>0.776922</td>\n",
       "      <td>0.024645</td>\n",
       "      <td>0.044216</td>\n",
       "      <td>0.007567</td>\n",
       "      <td>entropy</td>\n",
       "      <td>9</td>\n",
       "      <td>7</td>\n",
       "      <td>1</td>\n",
       "      <td>14</td>\n",
       "      <td>143</td>\n",
       "      <td>...</td>\n",
       "      <td>0.820061</td>\n",
       "      <td>0.853588</td>\n",
       "      <td>0.837466</td>\n",
       "      <td>0.013717</td>\n",
       "      <td>108</td>\n",
       "      <td>0.959899</td>\n",
       "      <td>0.963312</td>\n",
       "      <td>0.959532</td>\n",
       "      <td>0.960914</td>\n",
       "      <td>0.001702</td>\n",
       "    </tr>\n",
       "  </tbody>\n",
       "</table>\n",
       "<p>3 rows × 22 columns</p>\n",
       "</div>"
      ],
      "text/plain": [
       "   mean_fit_time  std_fit_time  mean_score_time  std_score_time  \\\n",
       "0       0.161237      0.006219         0.019282        0.000471   \n",
       "1       1.019275      0.002157         0.073469        0.004910   \n",
       "2       0.776922      0.024645         0.044216        0.007567   \n",
       "\n",
       "  param_criterion param_max_depth param_max_features param_min_samples_leaf  \\\n",
       "0            gini               2                  4                      9   \n",
       "1         entropy               5                 11                     12   \n",
       "2         entropy               9                  7                      1   \n",
       "\n",
       "  param_min_samples_split param_n_estimators  ... split1_test_score  \\\n",
       "0                       2                 71  ...          0.820193   \n",
       "1                      11                188  ...          0.825686   \n",
       "2                      14                143  ...          0.820061   \n",
       "\n",
       "   split2_test_score  mean_test_score  std_test_score  rank_test_score  \\\n",
       "0           0.860391         0.839695        0.016432               86   \n",
       "1           0.857776         0.842070        0.013109               51   \n",
       "2           0.853588         0.837466        0.013717              108   \n",
       "\n",
       "   split0_train_score  split1_train_score  split2_train_score  \\\n",
       "0            0.851891            0.863141            0.847861   \n",
       "1            0.891880            0.896644            0.884538   \n",
       "2            0.959899            0.963312            0.959532   \n",
       "\n",
       "   mean_train_score  std_train_score  \n",
       "0          0.854298         0.006466  \n",
       "1          0.891021         0.004980  \n",
       "2          0.960914         0.001702  \n",
       "\n",
       "[3 rows x 22 columns]"
      ]
     },
     "execution_count": 19,
     "metadata": {},
     "output_type": "execute_result"
    }
   ],
   "source": [
    "pd.DataFrame(rsearch_rfc.cv_results_).head(3)"
   ]
  },
  {
   "cell_type": "code",
   "execution_count": 20,
   "metadata": {},
   "outputs": [],
   "source": [
    "#rank_test_score = 1 best parameter"
   ]
  },
  {
   "cell_type": "code",
   "execution_count": 21,
   "metadata": {},
   "outputs": [
    {
     "name": "stdout",
     "output_type": "stream",
     "text": [
      "Confusion matrix - train dataset: \n",
      " [[878  34]\n",
      " [199 119]]\n",
      "Overall accuracy of model - train dataset: 0.8105691056910569\n",
      "AUC Score - train dataset: 0.8821892585236677\n",
      "\n",
      "\n",
      "Confusion matrix - test dataset: \n",
      " [[395  11]\n",
      " [ 86  36]]\n",
      "Overall accuracy of model - test dataset: 0.8162878787878788\n",
      "AUC Score - test dataset: 0.8410623435354921\n"
     ]
    },
    {
     "data": {
      "image/png": "[encoded data removed]",
      "text/plain": [
       "<Figure size 432x288 with 1 Axes>"
      ]
     },
     "metadata": {
      "needs_background": "light"
     },
     "output_type": "display_data"
    }
   ],
   "source": [
    "#Evaluating model\n",
    "rfc = RandomForestClassifier(**rsearch_rfc.best_params_, random_state=3)\n",
    "\n",
    "rfc.fit(X_trains, y_train) \n",
    "\n",
    "y_train_pred = rfc.predict(X_trains)\n",
    "y_train_prob = rfc.predict_proba(X_trains)[:,1]\n",
    "\n",
    "print('Confusion matrix - train dataset:', '\\n', confusion_matrix(y_train, y_train_pred))\n",
    "print('Overall accuracy of model - train dataset:', accuracy_score(y_train, y_train_pred))\n",
    "print('AUC Score - train dataset:', roc_auc_score(y_train, y_train_prob))\n",
    "\n",
    "print('\\n')\n",
    "\n",
    "y_test_pred = rfc.predict(X_tests)\n",
    "y_test_prob = rfc.predict_proba(X_tests)[:,1]\n",
    "\n",
    "print('Confusion matrix - test dataset:', '\\n', confusion_matrix(y_test, y_test_pred))\n",
    "print('Overall accuracy of model - test dataset:', accuracy_score(y_test, y_test_pred))\n",
    "print('AUC Score - test dataset:', roc_auc_score(y_test, y_test_prob))\n",
    "\n",
    "fpr,tpr,thresholds = roc_curve(y_test, y_test_prob)\n",
    "plt.plot(fpr,tpr)\n",
    "plt.plot(fpr,fpr,'r')\n",
    "plt.xlabel('FPR')\n",
    "plt.ylabel('TPR')\n",
    "plt.show()"
   ]
  },
  {
   "cell_type": "code",
   "execution_count": 22,
   "metadata": {},
   "outputs": [
    {
     "data": {
      "text/html": [
       "<div>\n",
       "<style scoped>\n",
       "    .dataframe tbody tr th:only-of-type {\n",
       "        vertical-align: middle;\n",
       "    }\n",
       "\n",
       "    .dataframe tbody tr th {\n",
       "        vertical-align: top;\n",
       "    }\n",
       "\n",
       "    .dataframe thead th {\n",
       "        text-align: right;\n",
       "    }\n",
       "</style>\n",
       "<table border=\"1\" class=\"dataframe\">\n",
       "  <thead>\n",
       "    <tr style=\"text-align: right;\">\n",
       "      <th></th>\n",
       "      <th>Importance</th>\n",
       "    </tr>\n",
       "  </thead>\n",
       "  <tbody>\n",
       "    <tr>\n",
       "      <td>tenure</td>\n",
       "      <td>0.182188</td>\n",
       "    </tr>\n",
       "    <tr>\n",
       "      <td>total_charges</td>\n",
       "      <td>0.109298</td>\n",
       "    </tr>\n",
       "    <tr>\n",
       "      <td>internet_service-fiber_optic</td>\n",
       "      <td>0.100839</td>\n",
       "    </tr>\n",
       "    <tr>\n",
       "      <td>avg_monthly_charges</td>\n",
       "      <td>0.080014</td>\n",
       "    </tr>\n",
       "    <tr>\n",
       "      <td>contract-two_year</td>\n",
       "      <td>0.079618</td>\n",
       "    </tr>\n",
       "    <tr>\n",
       "      <td>payment_method-electronic_check</td>\n",
       "      <td>0.072493</td>\n",
       "    </tr>\n",
       "    <tr>\n",
       "      <td>monthly_charges</td>\n",
       "      <td>0.071749</td>\n",
       "    </tr>\n",
       "    <tr>\n",
       "      <td>internet_service-no</td>\n",
       "      <td>0.041828</td>\n",
       "    </tr>\n",
       "    <tr>\n",
       "      <td>tech_support</td>\n",
       "      <td>0.038926</td>\n",
       "    </tr>\n",
       "    <tr>\n",
       "      <td>online_security</td>\n",
       "      <td>0.035799</td>\n",
       "    </tr>\n",
       "    <tr>\n",
       "      <td>dependents</td>\n",
       "      <td>0.030428</td>\n",
       "    </tr>\n",
       "    <tr>\n",
       "      <td>contract-one_year</td>\n",
       "      <td>0.025231</td>\n",
       "    </tr>\n",
       "    <tr>\n",
       "      <td>senior</td>\n",
       "      <td>0.021930</td>\n",
       "    </tr>\n",
       "    <tr>\n",
       "      <td>online_backup</td>\n",
       "      <td>0.020434</td>\n",
       "    </tr>\n",
       "    <tr>\n",
       "      <td>paperless_billing</td>\n",
       "      <td>0.019954</td>\n",
       "    </tr>\n",
       "    <tr>\n",
       "      <td>payment_method-credit_card_auto</td>\n",
       "      <td>0.011747</td>\n",
       "    </tr>\n",
       "    <tr>\n",
       "      <td>device_protection</td>\n",
       "      <td>0.009148</td>\n",
       "    </tr>\n",
       "    <tr>\n",
       "      <td>multiple_lines</td>\n",
       "      <td>0.009099</td>\n",
       "    </tr>\n",
       "    <tr>\n",
       "      <td>gender</td>\n",
       "      <td>0.008532</td>\n",
       "    </tr>\n",
       "    <tr>\n",
       "      <td>payment_method-mailed_check</td>\n",
       "      <td>0.007572</td>\n",
       "    </tr>\n",
       "    <tr>\n",
       "      <td>partner</td>\n",
       "      <td>0.007146</td>\n",
       "    </tr>\n",
       "    <tr>\n",
       "      <td>streaming_tv</td>\n",
       "      <td>0.006564</td>\n",
       "    </tr>\n",
       "    <tr>\n",
       "      <td>streaming_movies</td>\n",
       "      <td>0.006455</td>\n",
       "    </tr>\n",
       "    <tr>\n",
       "      <td>phone_service</td>\n",
       "      <td>0.003010</td>\n",
       "    </tr>\n",
       "  </tbody>\n",
       "</table>\n",
       "</div>"
      ],
      "text/plain": [
       "                                 Importance\n",
       "tenure                             0.182188\n",
       "total_charges                      0.109298\n",
       "internet_service-fiber_optic       0.100839\n",
       "avg_monthly_charges                0.080014\n",
       "contract-two_year                  0.079618\n",
       "payment_method-electronic_check    0.072493\n",
       "monthly_charges                    0.071749\n",
       "internet_service-no                0.041828\n",
       "tech_support                       0.038926\n",
       "online_security                    0.035799\n",
       "dependents                         0.030428\n",
       "contract-one_year                  0.025231\n",
       "senior                             0.021930\n",
       "online_backup                      0.020434\n",
       "paperless_billing                  0.019954\n",
       "payment_method-credit_card_auto    0.011747\n",
       "device_protection                  0.009148\n",
       "multiple_lines                     0.009099\n",
       "gender                             0.008532\n",
       "payment_method-mailed_check        0.007572\n",
       "partner                            0.007146\n",
       "streaming_tv                       0.006564\n",
       "streaming_movies                   0.006455\n",
       "phone_service                      0.003010"
      ]
     },
     "execution_count": 22,
     "metadata": {},
     "output_type": "execute_result"
    }
   ],
   "source": [
    "imp = pd.DataFrame(rfc.feature_importances_, index=X.columns, columns=['Importance'])\n",
    "imp = imp.sort_values(by='Importance', ascending=False)\n",
    "imp\n",
    "\n",
    "#if tenure is removed from model, then accuracy of model will drop by 16%\n",
    "#similarly, for other features\n",
    "#Importance shows how much accuracy will decrease if a feature is removed\n",
    "#can be used for feature selection, but features can be removed only if importnace is zero\n",
    "#here, no features should be removed"
   ]
  },
  {
   "cell_type": "markdown",
   "metadata": {},
   "source": [
    "### k-NN Algorithm"
   ]
  },
  {
   "cell_type": "code",
   "execution_count": 34,
   "metadata": {},
   "outputs": [],
   "source": [
    "from sklearn.neighbors import KNeighborsClassifier"
   ]
  },
  {
   "cell_type": "code",
   "execution_count": 35,
   "metadata": {},
   "outputs": [],
   "source": [
    "from sklearn.model_selection import RandomizedSearchCV, GridSearchCV\n",
    "from scipy.stats import randint as sp_randint"
   ]
  },
  {
   "cell_type": "code",
   "execution_count": 33,
   "metadata": {},
   "outputs": [
    {
     "data": {
      "text/plain": [
       "RandomizedSearchCV(cv=3, error_score=nan,\n",
       "                   estimator=KNeighborsClassifier(algorithm='auto',\n",
       "                                                  leaf_size=30,\n",
       "                                                  metric='minkowski',\n",
       "                                                  metric_params=None,\n",
       "                                                  n_jobs=None, n_neighbors=5,\n",
       "                                                  p=2, weights='uniform'),\n",
       "                   iid='deprecated', n_iter=50, n_jobs=-1,\n",
       "                   param_distributions={'n_neighbors': <scipy.stats._distn_infrastructure.rv_frozen object at 0x000001659350FE08>,\n",
       "                                        'p': <scipy.stats._distn_infrastructure.rv_frozen object at 0x000001659365DF88>},\n",
       "                   pre_dispatch='2*n_jobs', random_state=3, refit=True,\n",
       "                   return_train_score=True, scoring=None, verbose=0)"
      ]
     },
     "execution_count": 33,
     "metadata": {},
     "output_type": "execute_result"
    }
   ],
   "source": [
    "knn = KNeighborsClassifier()\n",
    "\n",
    "params = {'n_neighbors' : sp_randint(1,15), #min is 1\n",
    "         'p' : sp_randint(1,5)} #p = coeffciient of distance calculation\n",
    "\n",
    "rsearch_knn=RandomizedSearchCV(knn, param_distributions=params, cv=3, n_iter=50,return_train_score=True, \\\n",
    "                               random_state=3, n_jobs=-1)\n",
    "\n",
    "rsearch_knn.fit(Xs,y)"
   ]
  },
  {
   "cell_type": "code",
   "execution_count": 36,
   "metadata": {},
   "outputs": [
    {
     "data": {
      "text/plain": [
       "{'n_neighbors': 10, 'p': 2}"
      ]
     },
     "execution_count": 36,
     "metadata": {},
     "output_type": "execute_result"
    }
   ],
   "source": [
    "rsearch_knn.best_params_"
   ]
  },
  {
   "cell_type": "code",
   "execution_count": 48,
   "metadata": {},
   "outputs": [
    {
     "name": "stdout",
     "output_type": "stream",
     "text": [
      "Confusion matrix - train dataset: \n",
      " [[845  67]\n",
      " [146 172]]\n",
      "Overall accuracy of model - train dataset: 0.8268292682926829\n",
      "AUC Score - train dataset: 0.8789187493103829\n",
      "\n",
      "\n",
      "Confusion matrix - test dataset: \n",
      " [[368  38]\n",
      " [ 63  59]]\n",
      "Overall accuracy of model - test dataset: 0.8087121212121212\n",
      "Classification Report - Test :  \n",
      "               precision    recall  f1-score   support\n",
      "\n",
      "           0       0.85      0.91      0.88       406\n",
      "           1       0.61      0.48      0.54       122\n",
      "\n",
      "    accuracy                           0.81       528\n",
      "   macro avg       0.73      0.70      0.71       528\n",
      "weighted avg       0.80      0.81      0.80       528\n",
      "\n",
      "AUC Score - test dataset: 0.7977570055721553\n"
     ]
    },
    {
     "data": {
      "image/png": "[encoded data removed]",
      "text/plain": [
       "<Figure size 432x288 with 1 Axes>"
      ]
     },
     "metadata": {
      "needs_background": "light"
     },
     "output_type": "display_data"
    }
   ],
   "source": [
    "from sklearn.metrics import confusion_matrix, accuracy_score, classification_report, roc_auc_score, roc_curve\n",
    "\n",
    "knn = KNeighborsClassifier(**rsearch_knn.best_params_)\n",
    "\n",
    "knn.fit(X_trains, y_train) \n",
    "\n",
    "y_train_pred = knn.predict(X_trains)\n",
    "y_train_prob = knn.predict_proba(X_trains)[:,1]\n",
    "\n",
    "print('Confusion matrix - train dataset:', '\\n', confusion_matrix(y_train, y_train_pred))\n",
    "print('Overall accuracy of model - train dataset:', accuracy_score(y_train, y_train_pred))\n",
    "print('AUC Score - train dataset:', roc_auc_score(y_train, y_train_prob))\n",
    "\n",
    "print('\\n')\n",
    "\n",
    "y_test_pred = knn.predict(X_tests)\n",
    "y_test_prob = knn.predict_proba(X_tests)[:,1]\n",
    "\n",
    "print('Confusion matrix - test dataset:', '\\n', confusion_matrix(y_test, y_test_pred))\n",
    "print('Overall accuracy of model - test dataset:', accuracy_score(y_test, y_test_pred))\n",
    "print('Classification Report - Test : ', '\\n', classification_report(y_test, y_test_pred)) \n",
    "#wherevere, prediction of positives are critical print classification report\n",
    "print('AUC Score - test dataset:', roc_auc_score(y_test, y_test_prob))\n",
    "\n",
    "fpr,tpr,thresholds = roc_curve(y_test, y_test_prob)\n",
    "plt.plot(fpr,tpr)\n",
    "plt.plot(fpr,fpr,'r')\n",
    "plt.xlabel('FPR')\n",
    "plt.ylabel('TPR')\n",
    "plt.show()"
   ]
  },
  {
   "cell_type": "markdown",
   "metadata": {},
   "source": [
    "### STACKING RESULTS OF 3 LEARNERS (Random Forest, K-NN, Logistic Regression)"
   ]
  },
  {
   "cell_type": "code",
   "execution_count": 38,
   "metadata": {},
   "outputs": [],
   "source": [
    "from sklearn.linear_model import LogisticRegression"
   ]
  },
  {
   "cell_type": "code",
   "execution_count": 39,
   "metadata": {},
   "outputs": [
    {
     "name": "stdout",
     "output_type": "stream",
     "text": [
      "Confusion matrix - train dataset: \n",
      " [[827  85]\n",
      " [148 170]]\n",
      "Overall accuracy of model - train dataset: 0.8105691056910569\n",
      "AUC Score - train dataset: 0.8557665783956746\n",
      "\n",
      "\n",
      "Confusion matrix - test dataset: \n",
      " [[367  39]\n",
      " [ 62  60]]\n",
      "Overall accuracy of model - test dataset: 0.8087121212121212\n",
      "\n",
      "\n",
      "Classification Report - Test :  \n",
      "               precision    recall  f1-score   support\n",
      "\n",
      "           0       0.86      0.90      0.88       406\n",
      "           1       0.61      0.49      0.54       122\n",
      "\n",
      "    accuracy                           0.81       528\n",
      "   macro avg       0.73      0.70      0.71       528\n",
      "weighted avg       0.80      0.81      0.80       528\n",
      "\n",
      "AUC Score - test dataset: 0.842344343050957\n"
     ]
    },
    {
     "data": {
      "image/png": "[encoded data removed]",
      "text/plain": [
       "<Figure size 432x288 with 1 Axes>"
      ]
     },
     "metadata": {
      "needs_background": "light"
     },
     "output_type": "display_data"
    }
   ],
   "source": [
    "lr = LogisticRegression(solver='liblinear')\n",
    "\n",
    "lr.fit(X_trains, y_train)\n",
    "\n",
    "#model evaluation code:\n",
    "lr.fit(X_trains, y_train)\n",
    "\n",
    "y_train_pred = lr.predict(X_trains)\n",
    "y_train_prob = lr.predict_proba(X_trains)[:,1]\n",
    "\n",
    "print('Confusion matrix - train dataset:', '\\n', confusion_matrix(y_train, y_train_pred))\n",
    "print('Overall accuracy of model - train dataset:', accuracy_score(y_train, y_train_pred))\n",
    "print('AUC Score - train dataset:', roc_auc_score(y_train, y_train_prob))\n",
    "\n",
    "print('\\n')\n",
    "\n",
    "y_test_pred = lr.predict(X_tests)\n",
    "y_test_prob = lr.predict_proba(X_tests)[:,1]\n",
    "\n",
    "print('Confusion matrix - test dataset:', '\\n', confusion_matrix(y_test, y_test_pred))\n",
    "print('Overall accuracy of model - test dataset:', accuracy_score(y_test, y_test_pred))\n",
    "print('\\n')\n",
    "print('Classification Report - Test : ', '\\n', classification_report(y_test, y_test_pred)) \n",
    "#wherevere, prediction of positives are critical print classification report\n",
    "print('AUC Score - test dataset:', roc_auc_score(y_test, y_test_prob))\n",
    "\n",
    "fpr,tpr,thresholds = roc_curve(y_test, y_test_prob)\n",
    "plt.plot(fpr,tpr)\n",
    "plt.plot(fpr,fpr,'r')\n",
    "plt.xlabel('FPR')\n",
    "plt.ylabel('TPR')\n",
    "plt.show()"
   ]
  },
  {
   "cell_type": "code",
   "execution_count": 40,
   "metadata": {},
   "outputs": [],
   "source": [
    "from sklearn.ensemble import VotingClassifier"
   ]
  },
  {
   "cell_type": "code",
   "execution_count": 42,
   "metadata": {},
   "outputs": [],
   "source": [
    "lr = LogisticRegression(solver='liblinear')\n",
    "knn = KNeighborsClassifier(**rsearch_knn.best_params_)\n",
    "rfc = RandomForestClassifier(**rsearch_rfc.best_params_, random_state=3)"
   ]
  },
  {
   "cell_type": "code",
   "execution_count": 59,
   "metadata": {},
   "outputs": [
    {
     "name": "stdout",
     "output_type": "stream",
     "text": [
      "Accuracy score - Train:  0.8113821138211382\n",
      "Accuracy score - Test:  0.8143939393939394\n"
     ]
    }
   ],
   "source": [
    "## Hard Voting\n",
    "\n",
    "clf = VotingClassifier(estimators=[('lr',lr), ('knn',knn), ('rfc',rfc)],\n",
    "                      voting='hard')\n",
    "\n",
    "clf.fit(X_trains, y_train)\n",
    "\n",
    "y_train_pred = clf.predict(X_trains)\n",
    "y_test_pred = clf.predict(X_tests)\n",
    "#create predicted zeroes and ones for all three models and then take average using majority voting\n",
    "\n",
    "\n",
    "print('Accuracy score - Train: ', accuracy_score(y_train, y_train_pred))\n",
    "print('Accuracy score - Test: ', accuracy_score(y_test, y_test_pred))"
   ]
  },
  {
   "cell_type": "markdown",
   "metadata": {},
   "source": [
    "Overall result of all three models. AUC score cannot be checked as 'hard' method of aggragtion/voting of stacking is used.\n",
    "'predict_proba' cannot be used in hard voting.\n",
    "\n",
    "hard voting does not take probability into consideration. decided basis the mode only."
   ]
  },
  {
   "cell_type": "code",
   "execution_count": 60,
   "metadata": {},
   "outputs": [
    {
     "name": "stdout",
     "output_type": "stream",
     "text": [
      "Confusion matrix - train dataset: \n",
      " [[845  67]\n",
      " [150 168]]\n",
      "Overall accuracy of model - train dataset: 0.8235772357723578\n",
      "AUC Score - train dataset: 0.8824961381441025\n",
      "\n",
      "\n",
      "Confusion matrix - test dataset: \n",
      " [[376  30]\n",
      " [ 67  55]]\n",
      "Overall accuracy of model - test dataset: 0.8162878787878788\n",
      "\n",
      "\n",
      "Classification Report - Test :  \n",
      "               precision    recall  f1-score   support\n",
      "\n",
      "           0       0.85      0.93      0.89       406\n",
      "           1       0.65      0.45      0.53       122\n",
      "\n",
      "    accuracy                           0.82       528\n",
      "   macro avg       0.75      0.69      0.71       528\n",
      "weighted avg       0.80      0.82      0.80       528\n",
      "\n",
      "\n",
      "\n",
      "AUC Score - test dataset: 0.8367519987079061\n"
     ]
    },
    {
     "data": {
      "image/png": "[encoded data removed]",
      "text/plain": [
       "<Figure size 432x288 with 1 Axes>"
      ]
     },
     "metadata": {
      "needs_background": "light"
     },
     "output_type": "display_data"
    }
   ],
   "source": [
    "## Soft Voting - Equal Weightages\n",
    "\n",
    "clf = VotingClassifier(estimators=[('lr',lr), ('knn',knn), ('rfc',rfc)],  # all these 3 have the best parameters\n",
    "                      voting='soft')\n",
    "\n",
    "clf.fit(X_trains, y_train)\n",
    "\n",
    "y_train_pred = clf.predict(X_trains)\n",
    "#use model result to predict the predicted values on the 3 models sequentially and then get an average of all 3 models\n",
    "y_train_prob = clf.predict_proba(X_trains)[:,1]\n",
    "##use model result to predict the prob on the 3 models sequentially and then get an average of all 3 models\n",
    "\n",
    "print('Confusion matrix - train dataset:', '\\n', confusion_matrix(y_train, y_train_pred))\n",
    "print('Overall accuracy of model - train dataset:', accuracy_score(y_train, y_train_pred))\n",
    "print('AUC Score - train dataset:', roc_auc_score(y_train, y_train_prob))\n",
    "\n",
    "print('\\n')\n",
    "\n",
    "y_test_pred = clf.predict(X_tests)\n",
    "y_test_prob = clf.predict_proba(X_tests)[:,1]\n",
    "\n",
    "print('Confusion matrix - test dataset:', '\\n', confusion_matrix(y_test, y_test_pred))\n",
    "print('Overall accuracy of model - test dataset:', accuracy_score(y_test, y_test_pred))\n",
    "print('\\n')\n",
    "print('Classification Report - Test : ', '\\n', classification_report(y_test, y_test_pred)) \n",
    "#wherevere, prediction of positives are critical print classification report\n",
    "print('\\n')\n",
    "print('AUC Score - test dataset:', roc_auc_score(y_test, y_test_prob))\n",
    "\n",
    "fpr,tpr,thresholds = roc_curve(y_test, y_test_prob)\n",
    "plt.plot(fpr,tpr)\n",
    "plt.plot(fpr,fpr,'r')\n",
    "plt.xlabel('FPR')\n",
    "plt.ylabel('TPR')\n",
    "plt.show()"
   ]
  },
  {
   "cell_type": "code",
   "execution_count": 61,
   "metadata": {},
   "outputs": [
    {
     "name": "stdout",
     "output_type": "stream",
     "text": [
      "Confusion matrix - train dataset: \n",
      " [[854  58]\n",
      " [159 159]]\n",
      "Overall accuracy of model - train dataset: 0.8235772357723578\n",
      "AUC Score - train dataset: 0.8863097208429881\n",
      "\n",
      "\n",
      "Confusion matrix - test dataset: \n",
      " [[380  26]\n",
      " [ 70  52]]\n",
      "Overall accuracy of model - test dataset: 0.8181818181818182\n",
      "\n",
      "\n",
      "Classification Report - Test :  \n",
      "               precision    recall  f1-score   support\n",
      "\n",
      "           0       0.84      0.94      0.89       406\n",
      "           1       0.67      0.43      0.52       122\n",
      "\n",
      "    accuracy                           0.82       528\n",
      "   macro avg       0.76      0.68      0.70       528\n",
      "weighted avg       0.80      0.82      0.80       528\n",
      "\n",
      "\n",
      "\n",
      "AUC Score - test dataset: 0.8352782039893403\n"
     ]
    },
    {
     "data": {
      "image/png": "[encoded data removed]",
      "text/plain": [
       "<Figure size 432x288 with 1 Axes>"
      ]
     },
     "metadata": {
      "needs_background": "light"
     },
     "output_type": "display_data"
    }
   ],
   "source": [
    "## Soft Voting -Different Weightages:\n",
    "\n",
    "clf = VotingClassifier(estimators=[('lr',lr), ('knn',knn), ('rfc',rfc)],  # all these 3 have the best parameters\n",
    "                      weights=[1,2,3], voting='soft')\n",
    "\n",
    "#1-least weightage (1/6) to lr\n",
    "#2-second least weightage (2/6) to knn\n",
    "#3-highest weightage (3/6) to rfc\n",
    "\n",
    "clf.fit(X_trains, y_train)\n",
    "\n",
    "y_train_pred = clf.predict(X_trains)\n",
    "#use model result to predict the predicted values on the 3 models sequentially and then get an average of all 3 models\n",
    "y_train_prob = clf.predict_proba(X_trains)[:,1]\n",
    "##use model result to predict the prob on the 3 models sequentially and then get an average of all 3 models\n",
    "\n",
    "print('Confusion matrix - train dataset:', '\\n', confusion_matrix(y_train, y_train_pred))\n",
    "print('Overall accuracy of model - train dataset:', accuracy_score(y_train, y_train_pred))\n",
    "print('AUC Score - train dataset:', roc_auc_score(y_train, y_train_prob))\n",
    "\n",
    "print('\\n')\n",
    "\n",
    "y_test_pred = clf.predict(X_tests)\n",
    "y_test_prob = clf.predict_proba(X_tests)[:,1]\n",
    "\n",
    "print('Confusion matrix - test dataset:', '\\n', confusion_matrix(y_test, y_test_pred))\n",
    "print('Overall accuracy of model - test dataset:', accuracy_score(y_test, y_test_pred))\n",
    "print('\\n')\n",
    "print('Classification Report - Test : ', '\\n', classification_report(y_test, y_test_pred)) \n",
    "#wherevere, prediction of positives are critical print classification report\n",
    "print('\\n')\n",
    "print('AUC Score - test dataset:', roc_auc_score(y_test, y_test_prob))\n",
    "\n",
    "fpr,tpr,thresholds = roc_curve(y_test, y_test_prob)\n",
    "plt.plot(fpr,tpr)\n",
    "plt.plot(fpr,fpr,'r')\n",
    "plt.xlabel('FPR')\n",
    "plt.ylabel('TPR')\n",
    "plt.show()"
   ]
  },
  {
   "cell_type": "code",
   "execution_count": null,
   "metadata": {},
   "outputs": [],
   "source": []
  }
 ],
 "metadata": {
  "kernelspec": {
   "display_name": "Python 3",
   "language": "python",
   "name": "python3"
  },
  "language_info": {
   "codemirror_mode": {
    "name": "ipython",
    "version": 3
   },
   "file_extension": ".py",
   "mimetype": "text/x-python",
   "name": "python",
   "nbconvert_exporter": "python",
   "pygments_lexer": "ipython3",
   "version": "3.7.4"
  }
 },
 "nbformat": 4,
 "nbformat_minor": 2
}
